{
 "cells": [
  {
   "cell_type": "code",
   "execution_count": 1,
   "metadata": {
    "executionInfo": {
     "elapsed": 13,
     "status": "ok",
     "timestamp": 1651841828694,
     "user": {
      "displayName": "Faris Mohammed Albelouki",
      "userId": "17579804019999855506"
     },
     "user_tz": -60
    },
    "id": "kSd1k6i3zMdn"
   },
   "outputs": [],
   "source": [
    "import os\n",
    "import torch\n",
    "import torchvision\n",
    "import tarfile\n",
    "import torch.nn as nn\n",
    "import numpy as np\n",
    "import torch.nn.functional as F\n",
    "from torchvision.datasets.utils import download_url\n",
    "from torchvision.datasets import ImageFolder\n",
    "from torch.utils.data import DataLoader\n",
    "import torchvision.transforms as tt\n",
    "from torch.utils.data import random_split\n",
    "from torchvision.utils import make_grid\n",
    "import matplotlib.pyplot as plt\n",
    "%matplotlib inline\n"
   ]
  },
  {
   "cell_type": "code",
   "execution_count": 2,
   "metadata": {
    "executionInfo": {
     "elapsed": 7,
     "status": "ok",
     "timestamp": 1651841828848,
     "user": {
      "displayName": "Faris Mohammed Albelouki",
      "userId": "17579804019999855506"
     },
     "user_tz": -60
    },
    "id": "mBoGqZZ8JtgW"
   },
   "outputs": [],
   "source": [
    "name='cifar10'"
   ]
  },
  {
   "cell_type": "code",
   "execution_count": 3,
   "metadata": {
    "colab": {
     "base_uri": "https://localhost:8080/"
    },
    "executionInfo": {
     "elapsed": 44355,
     "status": "ok",
     "timestamp": 1651841873360,
     "user": {
      "displayName": "Faris Mohammed Albelouki",
      "userId": "17579804019999855506"
     },
     "user_tz": -60
    },
    "id": "DHCuKkEoKAHS",
    "outputId": "43e24742-699c-46f9-9e68-1fc9fa9aa8e1"
   },
   "outputs": [
    {
     "name": "stdout",
     "output_type": "stream",
     "text": [
      "Downloading https://files.fast.ai/data/examples/cifar10.tgz to .\\cifar10.tgz\n"
     ]
    },
    {
     "data": {
      "application/vnd.jupyter.widget-view+json": {
       "model_id": "96088d817e7346219e504e541249305b",
       "version_major": 2,
       "version_minor": 0
      },
      "text/plain": [
       "  0%|          | 0/168168549 [00:00<?, ?it/s]"
      ]
     },
     "metadata": {},
     "output_type": "display_data"
    }
   ],
   "source": [
    "download_url(\"https://files.fast.ai/data/examples/cifar10.tgz\", '.')\n",
    "with tarfile.open('./cifar10.tgz', 'r:gz') as tar:\n",
    "    tar.extractall(path='./data')\n",
    "classes = os.listdir(\"./data/cifar10/train\")"
   ]
  },
  {
   "cell_type": "code",
   "execution_count": 4,
   "metadata": {
    "executionInfo": {
     "elapsed": 11,
     "status": "ok",
     "timestamp": 1651841873378,
     "user": {
      "displayName": "Faris Mohammed Albelouki",
      "userId": "17579804019999855506"
     },
     "user_tz": -60
    },
    "id": "ob1x2GI0KCD4"
   },
   "outputs": [],
   "source": [
    "sts = ((0.4914, 0.4822, 0.4465), (0.2023, 0.1994, 0.2010))\n",
    "t_tfms = tt.Compose([tt.RandomCrop(32, padding=4, padding_mode='reflect'), tt.RandomHorizontalFlip(),  tt.ToTensor(),  tt.Normalize(*sts,inplace=True)])\n",
    "v_tfms = tt.Compose([tt.ToTensor(), tt.Normalize(*sts)])"
   ]
  },
  {
   "cell_type": "code",
   "execution_count": 5,
   "metadata": {
    "executionInfo": {
     "elapsed": 220,
     "status": "ok",
     "timestamp": 1651841873600,
     "user": {
      "displayName": "Faris Mohammed Albelouki",
      "userId": "17579804019999855506"
     },
     "user_tz": -60
    },
    "id": "0IMPmYqDKDxD"
   },
   "outputs": [
    {
     "ename": "NameError",
     "evalue": "name 'data_dir' is not defined",
     "output_type": "error",
     "traceback": [
      "\u001b[1;31m---------------------------------------------------------------------------\u001b[0m",
      "\u001b[1;31mNameError\u001b[0m                                 Traceback (most recent call last)",
      "Input \u001b[1;32mIn [5]\u001b[0m, in \u001b[0;36m<cell line: 1>\u001b[1;34m()\u001b[0m\n\u001b[1;32m----> 1\u001b[0m v_ds \u001b[38;5;241m=\u001b[39m ImageFolder(\u001b[43mdata_dir\u001b[49m\u001b[38;5;241m+\u001b[39m\u001b[38;5;124m'\u001b[39m\u001b[38;5;124m/test\u001b[39m\u001b[38;5;124m'\u001b[39m, v_tfms)\n\u001b[0;32m      3\u001b[0m t_ds \u001b[38;5;241m=\u001b[39m ImageFolder(data_dir\u001b[38;5;241m+\u001b[39m\u001b[38;5;124m'\u001b[39m\u001b[38;5;124m/train\u001b[39m\u001b[38;5;124m'\u001b[39m, t_tfms)\n",
      "\u001b[1;31mNameError\u001b[0m: name 'data_dir' is not defined"
     ]
    }
   ],
   "source": [
    "v_ds = ImageFolder(data_dir+'/test', v_tfms)\n",
    "\n",
    "t_ds = ImageFolder(data_dir+'/train', t_tfms)\n"
   ]
  },
  {
   "cell_type": "code",
   "execution_count": null,
   "metadata": {
    "executionInfo": {
     "elapsed": 7,
     "status": "ok",
     "timestamp": 1651841873618,
     "user": {
      "displayName": "Faris Mohammed Albelouki",
      "userId": "17579804019999855506"
     },
     "user_tz": -60
    },
    "id": "By_0gezrKFnt"
   },
   "outputs": [],
   "source": [
    "size = 400"
   ]
  },
  {
   "cell_type": "code",
   "execution_count": null,
   "metadata": {
    "executionInfo": {
     "elapsed": 7,
     "status": "ok",
     "timestamp": 1651841873635,
     "user": {
      "displayName": "Faris Mohammed Albelouki",
      "userId": "17579804019999855506"
     },
     "user_tz": -60
    },
    "id": "aBbc0xnUKHKy"
   },
   "outputs": [],
   "source": [
    "v_dl = DataLoader(v_ds, size*2, num_workers=3, pin_memory=True)\n",
    "\n",
    "t_dl = DataLoader(t_ds, size, shuffle=True, num_workers=3, pin_memory=True)\n"
   ]
  },
  {
   "cell_type": "code",
   "execution_count": null,
   "metadata": {
    "executionInfo": {
     "elapsed": 7,
     "status": "ok",
     "timestamp": 1651841873654,
     "user": {
      "displayName": "Faris Mohammed Albelouki",
      "userId": "17579804019999855506"
     },
     "user_tz": -60
    },
    "id": "e49HfMNUKIrJ"
   },
   "outputs": [],
   "source": [
    "def show(dl):\n",
    "    for images, labels in dl:\n",
    "        fig, ax = plt.subplots(figsize=(12, 12))\n",
    "        ax.set_xticks([]); ax.set_yticks([])\n",
    "        ax.imshow(make_grid(images[:64], nrow=8).permute(1, 2, 0))\n",
    "        break"
   ]
  },
  {
   "cell_type": "code",
   "execution_count": null,
   "metadata": {
    "colab": {
     "base_uri": "https://localhost:8080/",
     "height": 704
    },
    "executionInfo": {
     "elapsed": 6411,
     "status": "ok",
     "timestamp": 1651841880067,
     "user": {
      "displayName": "Faris Mohammed Albelouki",
      "userId": "17579804019999855506"
     },
     "user_tz": -60
    },
    "id": "ta-g3K5LKKMp",
    "outputId": "0abb898e-6cdd-4bae-b594-8203aae2cd50"
   },
   "outputs": [],
   "source": [
    "show(t_dl)"
   ]
  },
  {
   "cell_type": "code",
   "execution_count": null,
   "metadata": {
    "executionInfo": {
     "elapsed": 10,
     "status": "ok",
     "timestamp": 1651841880080,
     "user": {
      "displayName": "Faris Mohammed Albelouki",
      "userId": "17579804019999855506"
     },
     "user_tz": -60
    },
    "id": "qbz-JkvxKLoz"
   },
   "outputs": [],
   "source": [
    "def get_device():\n",
    "    if not torch.cuda.is_available():\n",
    "        return torch.device('cpu')\n",
    "    else:\n",
    "        return torch.device('cuda')\n",
    "    \n",
    "\n"
   ]
  },
  {
   "cell_type": "code",
   "execution_count": null,
   "metadata": {
    "executionInfo": {
     "elapsed": 11,
     "status": "ok",
     "timestamp": 1651841880093,
     "user": {
      "displayName": "Faris Mohammed Albelouki",
      "userId": "17579804019999855506"
     },
     "user_tz": -60
    },
    "id": "5WTd162wNV8b"
   },
   "outputs": [],
   "source": [
    "def swapDevice(data, device):\n",
    "    if not isinstance(data, (list,tuple)):\n",
    "      return data.to(device, non_blocking=True)\n",
    "    else:\n",
    "      return [swapDevice(x, device) for x in data]\n"
   ]
  },
  {
   "cell_type": "code",
   "execution_count": null,
   "metadata": {
    "executionInfo": {
     "elapsed": 2,
     "status": "ok",
     "timestamp": 1651841880097,
     "user": {
      "displayName": "Faris Mohammed Albelouki",
      "userId": "17579804019999855506"
     },
     "user_tz": -60
    },
    "id": "i2POSS9aM-tY"
   },
   "outputs": [],
   "source": [
    "class DeviceDataLoader():\n",
    "    def __len__(self):\n",
    "        return len(self.dl)  \n",
    "        \n",
    "    def __iter__(self):\n",
    "        for b in self.dl: \n",
    "            yield swapDevice(b, self.device)\n",
    "\n",
    "  \n",
    "    def __init__(self, dl, device):\n",
    "        self.dl = dl\n",
    "        self.device = device"
   ]
  },
  {
   "cell_type": "code",
   "execution_count": null,
   "metadata": {
    "executionInfo": {
     "elapsed": 11,
     "status": "ok",
     "timestamp": 1651841880129,
     "user": {
      "displayName": "Faris Mohammed Albelouki",
      "userId": "17579804019999855506"
     },
     "user_tz": -60
    },
    "id": "-roxVErkKQ4i"
   },
   "outputs": [],
   "source": [
    "train_dl = DeviceDataLoader(train_dl, get_device())\n",
    "valid_dl = DeviceDataLoader(valid_dl, get_device())"
   ]
  },
  {
   "cell_type": "code",
   "execution_count": null,
   "metadata": {
    "executionInfo": {
     "elapsed": 3,
     "status": "ok",
     "timestamp": 1651841880134,
     "user": {
      "displayName": "Faris Mohammed Albelouki",
      "userId": "17579804019999855506"
     },
     "user_tz": -60
    },
    "id": "MYbXHV-UKd-d"
   },
   "outputs": [],
   "source": [
    "class SimpleResidualBlock(nn.Module):\n",
    "    def __init__(self):\n",
    "        super().__init__()\n",
    "        self.relu2 = nn.ReLU()\n",
    "        self.conv1 = nn.Conv2d(in_channels=3, out_channels=3, kernel_size=3, stride=1, padding=1)\n",
    "        self.conv2 = nn.Conv2d(in_channels=3, out_channels=3, kernel_size=3, stride=1, padding=1)\n",
    "        self.relu1 = nn.ReLU()\n",
    "        \n",
    "        \n",
    "        \n",
    "    def forward(self, x):\n",
    "        out = self.conv1(x)\n",
    "        out = self.relu1(out)\n",
    "        out = self.conv2(out)\n",
    "        return self.relu2(out) + x "
   ]
  },
  {
   "cell_type": "code",
   "execution_count": null,
   "metadata": {
    "colab": {
     "base_uri": "https://localhost:8080/"
    },
    "executionInfo": {
     "elapsed": 6318,
     "status": "ok",
     "timestamp": 1651841886453,
     "user": {
      "displayName": "Faris Mohammed Albelouki",
      "userId": "17579804019999855506"
     },
     "user_tz": -60
    },
    "id": "V2Lc3_4CKfc1",
    "outputId": "5259669c-aff0-44c6-a6e5-9a3e1e99b0a4"
   },
   "outputs": [],
   "source": [
    "simple_resnet = swapDevice(SimpleResidualBlock(), get_device())\n",
    "\n",
    "for images, labels in train_dl:\n",
    "    out = simple_resnet(images)\n",
    "    print(out.shape)\n",
    "    break\n",
    "    \n",
    "del simple_resnet, images, labels\n",
    "torch.cuda.empty_cache()"
   ]
  },
  {
   "cell_type": "code",
   "execution_count": null,
   "metadata": {
    "executionInfo": {
     "elapsed": 3,
     "status": "ok",
     "timestamp": 1651841886462,
     "user": {
      "displayName": "Faris Mohammed Albelouki",
      "userId": "17579804019999855506"
     },
     "user_tz": -60
    },
    "id": "pPrs6sh5SnbB"
   },
   "outputs": [],
   "source": [
    "def accuracy(outputs, labels):\n",
    "    _, preds = torch.max(outputs, dim=1)\n",
    "    return torch.tensor(torch.sum(preds == labels).item() / len(preds))\n"
   ]
  },
  {
   "cell_type": "code",
   "execution_count": null,
   "metadata": {
    "executionInfo": {
     "elapsed": 10,
     "status": "ok",
     "timestamp": 1651841886485,
     "user": {
      "displayName": "Faris Mohammed Albelouki",
      "userId": "17579804019999855506"
     },
     "user_tz": -60
    },
    "id": "zGhBuysOKiGx"
   },
   "outputs": [],
   "source": [
    "class ImageClassificationBase(nn.Module):\n",
    "    def validation_epoch_end(self, outputs):\n",
    "        batch_losses = [x['val_loss'] for x in outputs]\n",
    "        epoch_loss = torch.stack(batch_losses).mean()   \n",
    "        batch_accs = [x['val_acc'] for x in outputs]\n",
    "        epoch_acc = torch.stack(batch_accs).mean()      \n",
    "        return {'val_loss': epoch_loss.item(), 'val_acc': epoch_acc.item()}\n",
    "\n",
    "    def epoch_end(self, epoch, result):\n",
    "        print(\"Epoch [{}], last_lr: {:.5f}, train_loss: {:.4f}, val_loss: {:.4f}, val_acc: {:.4f}\".format(epoch, result['lrs'][-1], result['train_loss'], result['val_loss'], result['val_acc']))\n",
    "            \n",
    "    def validation_step(self, batch):\n",
    "        images, labels = batch \n",
    "        out = self(images)                    \n",
    "        loss = F.cross_entropy(out, labels)   \n",
    "        acc = accuracy(out, labels)           \n",
    "        return {'val_loss': loss.detach(), 'val_acc': acc}\n",
    "        \n",
    "    def training_step(self, batch):\n",
    "        images, labels = batch \n",
    "        out = self(images)                  \n",
    "        loss = F.cross_entropy(out, labels) \n",
    "        return loss\n",
    "    \n"
   ]
  },
  {
   "cell_type": "code",
   "execution_count": null,
   "metadata": {
    "executionInfo": {
     "elapsed": 13,
     "status": "ok",
     "timestamp": 1651841886499,
     "user": {
      "displayName": "Faris Mohammed Albelouki",
      "userId": "17579804019999855506"
     },
     "user_tz": -60
    },
    "id": "fCPHkmebSjeT"
   },
   "outputs": [],
   "source": [
    "def conv(in_channels, out_channels, pool=False):\n",
    "    layers = [nn.Conv2d(in_channels, out_channels, kernel_size=3, padding=1),nn.BatchNorm2d(out_channels),nn.ReLU(inplace=True)]\n",
    "    if pool: layers.append(nn.MaxPool2d(2))\n",
    "    return nn.Sequential(*layers)"
   ]
  },
  {
   "cell_type": "code",
   "execution_count": null,
   "metadata": {
    "executionInfo": {
     "elapsed": 10,
     "status": "ok",
     "timestamp": 1651841886524,
     "user": {
      "displayName": "Faris Mohammed Albelouki",
      "userId": "17579804019999855506"
     },
     "user_tz": -60
    },
    "id": "6iCewxbJKi2X"
   },
   "outputs": [],
   "source": [
    "class ResNet9(ImageClassificationBase):\n",
    "    def __init__(self, in_channels, num_classes):\n",
    "        super().__init__()\n",
    "        self.conv1 = conv(in_channels, 64)\n",
    "        self.conv2 = conv(64, 128, pool=True)\n",
    "        self.res1 = nn.Sequential(conv(128, 128), conv(128, 128))\n",
    "        self.conv3 = conv(128, 256, pool=True)\n",
    "        self.conv4 = conv(256, 512, pool=True)\n",
    "        self.res2 = nn.Sequential(conv(512, 512), conv(512, 512))\n",
    "        self.classifier = nn.Sequential(nn.MaxPool2d(4), nn.Flatten(), nn.Linear(512, num_classes))\n",
    "    def forward(self, xb):\n",
    "        out = self.conv1(xb)\n",
    "        out = self.conv2(out)\n",
    "        out = self.res1(out) + out\n",
    "        out = self.conv3(out)\n",
    "        out = self.conv4(out)\n",
    "        out = self.res2(out) + out\n",
    "        out = self.classifier(out)\n",
    "        return out"
   ]
  },
  {
   "cell_type": "code",
   "execution_count": null,
   "metadata": {
    "executionInfo": {
     "elapsed": 43,
     "status": "ok",
     "timestamp": 1651841886568,
     "user": {
      "displayName": "Faris Mohammed Albelouki",
      "userId": "17579804019999855506"
     },
     "user_tz": -60
    },
    "id": "J1XY2GpeKkg5"
   },
   "outputs": [],
   "source": [
    "model = swapDevice(ResNet9(3, 10), device)"
   ]
  },
  {
   "cell_type": "code",
   "execution_count": null,
   "metadata": {
    "executionInfo": {
     "elapsed": 9,
     "status": "ok",
     "timestamp": 1651841886590,
     "user": {
      "displayName": "Faris Mohammed Albelouki",
      "userId": "17579804019999855506"
     },
     "user_tz": -60
    },
    "id": "eXr25PBZOjxY"
   },
   "outputs": [],
   "source": [
    "@torch.no_grad()\n",
    "def evaluate(m, l):\n",
    "    m.eval()\n",
    "    outputs = [m.validation_step(batch) for batch in l]\n",
    "    return m.validation_epoch_end(outputs)\n"
   ]
  },
  {
   "cell_type": "code",
   "execution_count": null,
   "metadata": {
    "executionInfo": {
     "elapsed": 7,
     "status": "ok",
     "timestamp": 1651841886606,
     "user": {
      "displayName": "Faris Mohammed Albelouki",
      "userId": "17579804019999855506"
     },
     "user_tz": -60
    },
    "id": "RW6HvgZKOk9R"
   },
   "outputs": [],
   "source": [
    "def get_lr(opt):\n",
    "    for param_group in opt.param_groups:\n",
    "        return param_group['lr']"
   ]
  },
  {
   "cell_type": "code",
   "execution_count": null,
   "metadata": {
    "executionInfo": {
     "elapsed": 7,
     "status": "ok",
     "timestamp": 1651841886627,
     "user": {
      "displayName": "Faris Mohammed Albelouki",
      "userId": "17579804019999855506"
     },
     "user_tz": -60
    },
    "id": "-qXnUB4ZKmXA"
   },
   "outputs": [],
   "source": [
    "def foc(number_of_epochs, lr, model, train_loader, val_loader, weight_decay=0, grad_clip=None, opt_func=torch.optim.SGD):\n",
    "    torch.cuda.empty_cache()\n",
    "    h = []\n",
    "\n",
    "    opt = opt_func(model.parameters(), lr, weight_decay=weight_decay)\n",
    "    sc = torch.optim.lr_scheduler.OneCycleLR(opt, lr, epochs=epochs,  steps_per_epoch=len(train_loader))\n",
    "    \n",
    "    for epoch in range(number_of_epochs):\n",
    "        # Training Phase \n",
    "        model.train()\n",
    "        ls = []\n",
    "        lrs = []\n",
    "        for batch in train_loader:\n",
    "            loss = model.training_step(batch)\n",
    "            ls.append(loss)\n",
    "            loss.backward()\n",
    "            if grad_clip: \n",
    "                nn.utils.clip_grad_value_(model.parameters(), grad_clip)    \n",
    "            opt.step()\n",
    "            opt.zero_grad()\n",
    "            lrs.append(get_lr(opt))\n",
    "            sc.step()\n",
    "\n",
    "        r = evaluate(model, val_loader)\n",
    "        r['train_loss'] = torch.stack(ls).mean().item()\n",
    "        r['lrs'] = lrs\n",
    "        model.epoch_end(epoch, r)\n",
    "        h.append(r)\n",
    "    return h"
   ]
  },
  {
   "cell_type": "code",
   "execution_count": null,
   "metadata": {
    "executionInfo": {
     "elapsed": 9,
     "status": "ok",
     "timestamp": 1651842652506,
     "user": {
      "displayName": "Faris Mohammed Albelouki",
      "userId": "17579804019999855506"
     },
     "user_tz": -60
    },
    "id": "mthEVwTCKrFq"
   },
   "outputs": [],
   "source": [
    "weight_decay = 1e-4\n",
    "opt_func = torch.optim.Adam\n",
    "grad_clip = 0.1\n",
    "number_of_epochs = 30\n",
    "lr = 0.01"
   ]
  },
  {
   "cell_type": "code",
   "execution_count": null,
   "metadata": {
    "colab": {
     "base_uri": "https://localhost:8080/"
    },
    "id": "kYqG982OKsiL",
    "outputId": "df7f237d-c2e6-4462-9936-39e2b0724ac7"
   },
   "outputs": [],
   "source": [
    "%%time\n",
    "history += foc(number_of_epochs, lr, model, train_dl, valid_dl, grad_clip=grad_clip, weight_decay=weight_decay, opt_func=opt_func)"
   ]
  },
  {
   "cell_type": "code",
   "execution_count": null,
   "metadata": {
    "id": "qGA3N7UiOpCw"
   },
   "outputs": [],
   "source": []
  },
  {
   "cell_type": "code",
   "execution_count": null,
   "metadata": {},
   "outputs": [],
   "source": []
  }
 ],
 "metadata": {
  "accelerator": "GPU",
  "colab": {
   "authorship_tag": "ABX9TyPKvnAxJ5jwVXFU5IOCbCFh",
   "name": "Network_Faris.ipynb",
   "provenance": []
  },
  "kernelspec": {
   "display_name": "Python 3 (ipykernel)",
   "language": "python",
   "name": "python3"
  },
  "language_info": {
   "codemirror_mode": {
    "name": "ipython",
    "version": 3
   },
   "file_extension": ".py",
   "mimetype": "text/x-python",
   "name": "python",
   "nbconvert_exporter": "python",
   "pygments_lexer": "ipython3",
   "version": "3.9.12"
  }
 },
 "nbformat": 4,
 "nbformat_minor": 1
}
