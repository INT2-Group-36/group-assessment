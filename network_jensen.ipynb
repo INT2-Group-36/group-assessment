{
  "nbformat": 4,
  "nbformat_minor": 0,
  "metadata": {
    "colab": {
      "name": "network_jensen.ipynb",
      "provenance": [],
      "collapsed_sections": []
    },
    "kernelspec": {
      "name": "python3",
      "display_name": "Python 3"
    },
    "language_info": {
      "name": "python"
    }
  },
  "cells": [
    {
      "cell_type": "code",
      "execution_count": 32,
      "metadata": {
        "id": "to5dEM2j2kBn"
      },
      "outputs": [],
      "source": [
        "import tensorflow as tf\n",
        "from tensorflow.keras import datasets, layers, models\n",
        "import matplotlib.pyplot as plt\n",
        "import numpy as np"
      ]
    },
    {
      "cell_type": "markdown",
      "source": [
        "Load the dataset"
      ],
      "metadata": {
        "id": "wz1ZYrfcHsy8"
      }
    },
    {
      "cell_type": "code",
      "source": [
        "(X_train, y_train), (X_test,y_test) = datasets.cifar10.load_data()"
      ],
      "metadata": {
        "id": "uj0ipHmB5eAK"
      },
      "execution_count": 33,
      "outputs": []
    },
    {
      "cell_type": "code",
      "source": [
        "y_train = y_train.reshape(-1,)\n",
        "y_test = y_test.reshape(-1,)"
      ],
      "metadata": {
        "id": "XpgFwMwp5nYU"
      },
      "execution_count": 34,
      "outputs": []
    },
    {
      "cell_type": "code",
      "source": [
        "classes = [\"airplane\",\"automobile\",\"bird\",\"cat\",\"deer\",\"dog\",\"frog\",\"horse\",\"ship\",\"truck\"]"
      ],
      "metadata": {
        "id": "RV-FbrWL5qZZ"
      },
      "execution_count": 35,
      "outputs": []
    },
    {
      "cell_type": "markdown",
      "source": [
        "Normalise the training data"
      ],
      "metadata": {
        "id": "VrnZ7JVsIBJI"
      }
    },
    {
      "cell_type": "code",
      "source": [
        "X_train = X_train / 255.0\n",
        "X_test = X_test / 255.0"
      ],
      "metadata": {
        "id": "DtesZg5652Mn"
      },
      "execution_count": 36,
      "outputs": []
    },
    {
      "cell_type": "markdown",
      "source": [
        "Build the CNN"
      ],
      "metadata": {
        "id": "nkk4p4U5H0fN"
      }
    },
    {
      "cell_type": "code",
      "source": [
        "cnn = models.Sequential([\n",
        "    layers.Conv2D(filters=32, kernel_size=(3, 3), activation='relu', input_shape=(32, 32, 3)),\n",
        "    layers.MaxPooling2D((2, 2)),\n",
        "    \n",
        "    layers.Conv2D(filters=64, kernel_size=(3, 3), activation='relu'),\n",
        "    layers.MaxPooling2D((2, 2)),\n",
        "    \n",
        "    layers.Flatten(),\n",
        "    layers.Dense(64, activation='relu'),\n",
        "    layers.Dense(10, activation='softmax')\n",
        "])"
      ],
      "metadata": {
        "id": "OOtOMsr156td"
      },
      "execution_count": 37,
      "outputs": []
    },
    {
      "cell_type": "code",
      "source": [
        "cnn.compile(optimizer='adam',\n",
        "              loss='sparse_categorical_crossentropy',\n",
        "              metrics=['accuracy','mean_squared_error'])"
      ],
      "metadata": {
        "id": "_GX-vSm_6vtt"
      },
      "execution_count": 38,
      "outputs": []
    },
    {
      "cell_type": "code",
      "source": [
        "cnn.fit(X_train, y_train, epochs=50)"
      ],
      "metadata": {
        "colab": {
          "base_uri": "https://localhost:8080/"
        },
        "id": "KS3LReTg6v79",
        "outputId": "7ff665d7-2e76-4311-f48c-efedd6272531"
      },
      "execution_count": 39,
      "outputs": [
        {
          "output_type": "stream",
          "name": "stdout",
          "text": [
            "Epoch 1/50\n",
            "1563/1563 [==============================] - 65s 41ms/step - loss: 1.4506 - accuracy: 0.4835 - mean_squared_error: 27.6329\n",
            "Epoch 2/50\n",
            "1563/1563 [==============================] - 64s 41ms/step - loss: 1.0957 - accuracy: 0.6163 - mean_squared_error: 27.6468\n",
            "Epoch 3/50\n",
            "1563/1563 [==============================] - 64s 41ms/step - loss: 0.9747 - accuracy: 0.6612 - mean_squared_error: 27.6525\n",
            "Epoch 4/50\n",
            "1563/1563 [==============================] - 64s 41ms/step - loss: 0.8931 - accuracy: 0.6902 - mean_squared_error: 27.6562\n",
            "Epoch 5/50\n",
            "1563/1563 [==============================] - 64s 41ms/step - loss: 0.8268 - accuracy: 0.7127 - mean_squared_error: 27.6593\n",
            "Epoch 6/50\n",
            "1563/1563 [==============================] - 64s 41ms/step - loss: 0.7731 - accuracy: 0.7291 - mean_squared_error: 27.6618\n",
            "Epoch 7/50\n",
            "1563/1563 [==============================] - 64s 41ms/step - loss: 0.7249 - accuracy: 0.7478 - mean_squared_error: 27.6639\n",
            "Epoch 8/50\n",
            "1563/1563 [==============================] - 64s 41ms/step - loss: 0.6879 - accuracy: 0.7587 - mean_squared_error: 27.6657\n",
            "Epoch 9/50\n",
            "1563/1563 [==============================] - 64s 41ms/step - loss: 0.6449 - accuracy: 0.7743 - mean_squared_error: 27.6675\n",
            "Epoch 10/50\n",
            "1563/1563 [==============================] - 64s 41ms/step - loss: 0.6122 - accuracy: 0.7858 - mean_squared_error: 27.6691\n",
            "Epoch 11/50\n",
            "1563/1563 [==============================] - 64s 41ms/step - loss: 0.5807 - accuracy: 0.7959 - mean_squared_error: 27.6706\n",
            "Epoch 12/50\n",
            "1563/1563 [==============================] - 64s 41ms/step - loss: 0.5444 - accuracy: 0.8096 - mean_squared_error: 27.6721\n",
            "Epoch 13/50\n",
            "1563/1563 [==============================] - 64s 41ms/step - loss: 0.5185 - accuracy: 0.8192 - mean_squared_error: 27.6734\n",
            "Epoch 14/50\n",
            "1563/1563 [==============================] - 64s 41ms/step - loss: 0.4889 - accuracy: 0.8289 - mean_squared_error: 27.6747\n",
            "Epoch 15/50\n",
            "1563/1563 [==============================] - 63s 41ms/step - loss: 0.4665 - accuracy: 0.8347 - mean_squared_error: 27.6758\n",
            "Epoch 16/50\n",
            "1563/1563 [==============================] - 63s 41ms/step - loss: 0.4381 - accuracy: 0.8457 - mean_squared_error: 27.6770\n",
            "Epoch 17/50\n",
            "1563/1563 [==============================] - 64s 41ms/step - loss: 0.4165 - accuracy: 0.8534 - mean_squared_error: 27.6780\n",
            "Epoch 18/50\n",
            "1563/1563 [==============================] - 64s 41ms/step - loss: 0.3958 - accuracy: 0.8590 - mean_squared_error: 27.6790\n",
            "Epoch 19/50\n",
            "1563/1563 [==============================] - 64s 41ms/step - loss: 0.3714 - accuracy: 0.8678 - mean_squared_error: 27.6802\n",
            "Epoch 20/50\n",
            "1563/1563 [==============================] - 64s 41ms/step - loss: 0.3511 - accuracy: 0.8734 - mean_squared_error: 27.6810\n",
            "Epoch 21/50\n",
            "1563/1563 [==============================] - 64s 41ms/step - loss: 0.3349 - accuracy: 0.8803 - mean_squared_error: 27.6819\n",
            "Epoch 22/50\n",
            "1563/1563 [==============================] - 64s 41ms/step - loss: 0.3154 - accuracy: 0.8872 - mean_squared_error: 27.6829\n",
            "Epoch 23/50\n",
            "1563/1563 [==============================] - 64s 41ms/step - loss: 0.2998 - accuracy: 0.8913 - mean_squared_error: 27.6837\n",
            "Epoch 24/50\n",
            "1563/1563 [==============================] - 63s 41ms/step - loss: 0.2898 - accuracy: 0.8956 - mean_squared_error: 27.6844\n",
            "Epoch 25/50\n",
            "1563/1563 [==============================] - 64s 41ms/step - loss: 0.2698 - accuracy: 0.9026 - mean_squared_error: 27.6852\n",
            "Epoch 26/50\n",
            "1563/1563 [==============================] - 63s 41ms/step - loss: 0.2544 - accuracy: 0.9069 - mean_squared_error: 27.6858\n",
            "Epoch 27/50\n",
            "1563/1563 [==============================] - 63s 40ms/step - loss: 0.2424 - accuracy: 0.9117 - mean_squared_error: 27.6866\n",
            "Epoch 28/50\n",
            "1563/1563 [==============================] - 64s 41ms/step - loss: 0.2322 - accuracy: 0.9151 - mean_squared_error: 27.6873\n",
            "Epoch 29/50\n",
            "1563/1563 [==============================] - 64s 41ms/step - loss: 0.2272 - accuracy: 0.9189 - mean_squared_error: 27.6877\n",
            "Epoch 30/50\n",
            "1563/1563 [==============================] - 64s 41ms/step - loss: 0.2087 - accuracy: 0.9239 - mean_squared_error: 27.6885\n",
            "Epoch 31/50\n",
            "1563/1563 [==============================] - 64s 41ms/step - loss: 0.2029 - accuracy: 0.9259 - mean_squared_error: 27.6888\n",
            "Epoch 32/50\n",
            "1563/1563 [==============================] - 64s 41ms/step - loss: 0.1950 - accuracy: 0.9297 - mean_squared_error: 27.6893\n",
            "Epoch 33/50\n",
            "1563/1563 [==============================] - 64s 41ms/step - loss: 0.1877 - accuracy: 0.9307 - mean_squared_error: 27.6897\n",
            "Epoch 34/50\n",
            "1563/1563 [==============================] - 64s 41ms/step - loss: 0.1797 - accuracy: 0.9341 - mean_squared_error: 27.6902\n",
            "Epoch 35/50\n",
            "1563/1563 [==============================] - 64s 41ms/step - loss: 0.1765 - accuracy: 0.9359 - mean_squared_error: 27.6906\n",
            "Epoch 36/50\n",
            "1563/1563 [==============================] - 65s 41ms/step - loss: 0.1689 - accuracy: 0.9384 - mean_squared_error: 27.6909\n",
            "Epoch 37/50\n",
            "1563/1563 [==============================] - 65s 42ms/step - loss: 0.1598 - accuracy: 0.9411 - mean_squared_error: 27.6913\n",
            "Epoch 38/50\n",
            "1563/1563 [==============================] - 65s 42ms/step - loss: 0.1569 - accuracy: 0.9423 - mean_squared_error: 27.6917\n",
            "Epoch 39/50\n",
            "1563/1563 [==============================] - 65s 42ms/step - loss: 0.1480 - accuracy: 0.9462 - mean_squared_error: 27.6921\n",
            "Epoch 40/50\n",
            "1563/1563 [==============================] - 65s 42ms/step - loss: 0.1482 - accuracy: 0.9451 - mean_squared_error: 27.6922\n",
            "Epoch 41/50\n",
            "1563/1563 [==============================] - 64s 41ms/step - loss: 0.1421 - accuracy: 0.9476 - mean_squared_error: 27.6925\n",
            "Epoch 42/50\n",
            "1563/1563 [==============================] - 64s 41ms/step - loss: 0.1325 - accuracy: 0.9524 - mean_squared_error: 27.6929\n",
            "Epoch 43/50\n",
            "1563/1563 [==============================] - 64s 41ms/step - loss: 0.1308 - accuracy: 0.9532 - mean_squared_error: 27.6932\n",
            "Epoch 44/50\n",
            "1563/1563 [==============================] - 65s 41ms/step - loss: 0.1251 - accuracy: 0.9555 - mean_squared_error: 27.6935\n",
            "Epoch 45/50\n",
            "1563/1563 [==============================] - 64s 41ms/step - loss: 0.1257 - accuracy: 0.9539 - mean_squared_error: 27.6935\n",
            "Epoch 46/50\n",
            "1563/1563 [==============================] - 65s 41ms/step - loss: 0.1297 - accuracy: 0.9534 - mean_squared_error: 27.6937\n",
            "Epoch 47/50\n",
            "1563/1563 [==============================] - 65s 41ms/step - loss: 0.1177 - accuracy: 0.9579 - mean_squared_error: 27.6940\n",
            "Epoch 48/50\n",
            "1563/1563 [==============================] - 64s 41ms/step - loss: 0.1235 - accuracy: 0.9568 - mean_squared_error: 27.6941\n",
            "Epoch 49/50\n",
            "1563/1563 [==============================] - 65s 42ms/step - loss: 0.1179 - accuracy: 0.9571 - mean_squared_error: 27.6942\n",
            "Epoch 50/50\n",
            "1563/1563 [==============================] - 64s 41ms/step - loss: 0.1180 - accuracy: 0.9590 - mean_squared_error: 27.6944\n"
          ]
        },
        {
          "output_type": "execute_result",
          "data": {
            "text/plain": [
              "<keras.callbacks.History at 0x7fd4d43bbbd0>"
            ]
          },
          "metadata": {},
          "execution_count": 39
        }
      ]
    },
    {
      "cell_type": "code",
      "source": [
        "cnn.evaluate(X_test,y_test)"
      ],
      "metadata": {
        "colab": {
          "base_uri": "https://localhost:8080/"
        },
        "id": "2JBKL0Jb61EC",
        "outputId": "0479dc98-7aca-4fcc-f1f1-f4206ddd7c0f"
      },
      "execution_count": 40,
      "outputs": [
        {
          "output_type": "stream",
          "name": "stdout",
          "text": [
            "313/313 [==============================] - 4s 13ms/step - loss: 2.9205 - accuracy: 0.6648 - mean_squared_error: 27.6907\n"
          ]
        },
        {
          "output_type": "execute_result",
          "data": {
            "text/plain": [
              "[2.92051100730896, 0.6647999882698059, 27.690675735473633]"
            ]
          },
          "metadata": {},
          "execution_count": 40
        }
      ]
    },
    {
      "cell_type": "code",
      "source": [
        "y_pred = cnn.predict(X_test)"
      ],
      "metadata": {
        "id": "Z-MT79yP62p4"
      },
      "execution_count": 41,
      "outputs": []
    },
    {
      "cell_type": "code",
      "source": [
        "y_classes = [np.argmax(element) for element in y_pred]"
      ],
      "metadata": {
        "id": "RN7b_yKS64R4"
      },
      "execution_count": 42,
      "outputs": []
    },
    {
      "cell_type": "code",
      "source": [
        "def plot_sample(X, y, index):\n",
        "    plt.figure(figsize = (15,2))\n",
        "    plt.imshow(X[index])\n",
        "    plt.xlabel(classes[y[index]])"
      ],
      "metadata": {
        "id": "eUdbqQ2DH4D8"
      },
      "execution_count": 43,
      "outputs": []
    },
    {
      "cell_type": "code",
      "source": [
        "plot_sample(X_test, y_test,3)"
      ],
      "metadata": {
        "colab": {
          "base_uri": "https://localhost:8080/",
          "height": 173
        },
        "id": "5A4h3b9j67Dy",
        "outputId": "d18033be-14c4-497f-f570-226faafc46cd"
      },
      "execution_count": 44,
      "outputs": [
        {
          "output_type": "display_data",
          "data": {
            "text/plain": [
              "<Figure size 1080x144 with 1 Axes>"
            ],
            "image/png": "[encoded data removed]"
          },
          "metadata": {
            "needs_background": "light"
          }
        }
      ]
    },
    {
      "cell_type": "code",
      "source": [
        "classes[y_classes[3]]"
      ],
      "metadata": {
        "colab": {
          "base_uri": "https://localhost:8080/",
          "height": 35
        },
        "id": "dOznQpOx68L5",
        "outputId": "7427c165-5707-4e11-9cba-933a3d8f9558"
      },
      "execution_count": 45,
      "outputs": [
        {
          "output_type": "execute_result",
          "data": {
            "text/plain": [
              "'airplane'"
            ],
            "application/vnd.google.colaboratory.intrinsic+json": {
              "type": "string"
            }
          },
          "metadata": {},
          "execution_count": 45
        }
      ]
    }
  ]
}